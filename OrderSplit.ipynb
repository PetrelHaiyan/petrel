{
 "cells": [
  {
   "cell_type": "markdown",
   "metadata": {},
   "source": [
    "## 拆分订单表，且关联明细\n",
    "\n",
    "### 要求如下\n",
    "* 主表：会员销售数据，从表：会员销售商品明细\n",
    "* 主表长度2W\n",
    "* 主表的件数、金额 = 从表的件数、金额\n",
    "* 校验维度：主表的订单件数=从表的销售件数；主表的订单应付金额 = 从表的商品总金额"
   ]
  },
  {
   "cell_type": "code",
   "execution_count": 1,
   "metadata": {},
   "outputs": [],
   "source": [
    "import pandas as pd\n",
    "import os\n",
    "import warnings\n",
    "warnings.filterwarnings('ignore')"
   ]
  },
  {
   "cell_type": "code",
   "execution_count": 2,
   "metadata": {
    "scrolled": true
   },
   "outputs": [],
   "source": [
    "filename_order  =  r'D:\\数据项目\\23-EGG\\待导入\\第一批可导入\\订单\\会员销售数据.xlsx'\n",
    "filename_orderdtl  =  r'D:\\数据项目\\23-EGG\\待导入\\第一批可导入\\订单\\会员销售数据.xlsx'\n",
    "# file = r'D:\\数据项目\\16-方所\\待导入-第一批\\订单数据\\订单明细.csv'\n",
    "# f = open(filename_order,encoding='utf-8')\n",
    "# order = pd.read_csv(f,dtype = {'门店编码' : str,'订单编号' : str,'线下卡号' : str})\n",
    "\n",
    "order = pd.read_excel(filename_order,sheet_name=0,dtype={'门店编码': 'str','订单编号': 'str','线下卡号': 'str'}) #'关联单号': 'str'\n",
    "orderdtl = pd.read_excel(filename_orderdtl,sheet_name=1,dtype={'门店编码': 'str','订单编号': 'str','商品条码': 'str'})\n",
    "\n",
    "# f = open(filename_orderdtl,encoding='utf-8')\n",
    "# orderdtl = pd.read_csv(f,dtype = {'门店编码' : str,'订单编号' : str,'商品条码' : str})\n",
    "\n",
    "row_num = int(order.shape[0])  # 读取主表长度\n"
   ]
  },
  {
   "cell_type": "code",
   "execution_count": 3,
   "metadata": {},
   "outputs": [
    {
     "data": {
      "text/plain": [
       "((179600, 14), (688875, 10))"
      ]
     },
     "execution_count": 3,
     "metadata": {},
     "output_type": "execute_result"
    }
   ],
   "source": [
    "order.shape,orderdtl.shape"
   ]
  },
  {
   "cell_type": "code",
   "execution_count": 4,
   "metadata": {},
   "outputs": [
    {
     "name": "stdout",
     "output_type": "stream",
     "text": [
      "导出完成\n"
     ]
    }
   ],
   "source": [
    "\n",
    "for i in range (0,row_num,20000):\n",
    "    j = i+20000 if i+20000 < row_num else  row_num\n",
    "    order_cut = order[i:j]\n",
    "    orderdtl_cut =orderdtl[orderdtl['订单编号'].isin(order_cut['订单编号'])]\n",
    "    writer = pd.ExcelWriter(\"D:\\\\数据项目\\\\23-EGG\\\\待导入\\\\第一批可导入\\\\订单\\\\%s_%s\"%(int(i/20000),os.path.basename(filename_order)))\n",
    "    order_cut.to_excel(writer, sheet_name='会员销售数据',index = False)\n",
    "    orderdtl_cut.to_excel(writer, sheet_name='会员销售商品明细',index = False)\n",
    "    writer.save()\n",
    "print(\"导出完成\")"
   ]
  },
  {
   "cell_type": "markdown",
   "metadata": {},
   "source": [
    "### 若存在订单编号和门店编码为索引则执行以下方案\n"
   ]
  },
  {
   "cell_type": "code",
   "execution_count": null,
   "metadata": {},
   "outputs": [],
   "source": [
    "order['索引'] = order[\"门店编码\"].map(str) + order[\"订单编号\"]\n",
    "orderdtl['索引'] = orderdtl[\"门店编码\"].map(str) + orderdtl[\"订单编号\"]"
   ]
  },
  {
   "cell_type": "code",
   "execution_count": null,
   "metadata": {},
   "outputs": [],
   "source": [
    "for i in range (0,row_num,20000):\n",
    "    j = i+20000 if i+20000 < row_num else  row_num\n",
    "    order_cut = order[i:j]\n",
    "    orderdtl_cut =orderdtl[orderdtl['索引'].isin(order_cut['索引'])]\n",
    "    \n",
    "    writer = pd.ExcelWriter(\"C:\\\\Users\\\\Administrator\\\\Desktop\\\\拆表\\\\%s_%s\"%(int(i/20000),os.path.basename(filename_order)))\n",
    "    ordercolumns_sort=['门店编码', '订单编号', '关联单号', '订单状态', '线下卡号', '订单时间', '订单件数', '订单吊牌金额',\n",
    "       '订单应付金额', '订单实付金额', '销售导购工号', '推荐导购工号', '推荐门店编码', '订单来源']\n",
    "    order_cut=order_cut.reindex(columns=ordercolumns_sort)\n",
    "    order_cut.to_excel(writer, sheet_name='会员销售数据',index = False)\n",
    "    \n",
    "    orderdtlcolumns_sort=['门店编码', '订单编号', '商品条码', '商品吊牌价', '商品实际售价', '销售件数', '商品总金额', '销售导购工号',\n",
    "       '推荐导购工号', '推荐门店编码']\n",
    "    orderdtl_cut = orderdtl_cut.reindex(columns=orderdtlcolumns_sort)    \n",
    "    orderdtl_cut.to_excel(writer, sheet_name='会员销售商品明细',index = False)\n",
    "    writer.save()\n",
    "print(\"导出完成\")"
   ]
  },
  {
   "cell_type": "code",
   "execution_count": null,
   "metadata": {},
   "outputs": [],
   "source": [
    "orderdtl.columns"
   ]
  },
  {
   "cell_type": "code",
   "execution_count": null,
   "metadata": {},
   "outputs": [],
   "source": [
    "order.columns"
   ]
  },
  {
   "cell_type": "code",
   "execution_count": null,
   "metadata": {},
   "outputs": [],
   "source": []
  }
 ],
 "metadata": {
  "kernelspec": {
   "display_name": "Python 3",
   "language": "python",
   "name": "python3"
  },
  "language_info": {
   "codemirror_mode": {
    "name": "ipython",
    "version": 3
   },
   "file_extension": ".py",
   "mimetype": "text/x-python",
   "name": "python",
   "nbconvert_exporter": "python",
   "pygments_lexer": "ipython3",
   "version": "3.7.1"
  },
  "toc": {
   "base_numbering": 1,
   "nav_menu": {},
   "number_sections": true,
   "sideBar": true,
   "skip_h1_title": false,
   "title_cell": "Table of Contents",
   "title_sidebar": "Contents",
   "toc_cell": false,
   "toc_position": {},
   "toc_section_display": true,
   "toc_window_display": false
  }
 },
 "nbformat": 4,
 "nbformat_minor": 2
}
